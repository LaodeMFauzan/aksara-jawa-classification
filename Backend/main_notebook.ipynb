{
  "nbformat": 4,
  "nbformat_minor": 0,
  "metadata": {
    "kernelspec": {
      "language": "python",
      "display_name": "Python 3",
      "name": "python3"
    },
    "language_info": {
      "pygments_lexer": "ipython3",
      "nbconvert_exporter": "python",
      "version": "3.6.4",
      "file_extension": ".py",
      "codemirror_mode": {
        "name": "ipython",
        "version": 3
      },
      "name": "python",
      "mimetype": "text/x-python"
    },
    "colab": {
      "name": "main_notebook.ipynb",
      "provenance": [],
      "toc_visible": true
    },
    "accelerator": "GPU"
  },
  "cells": [
    {
      "cell_type": "markdown",
      "metadata": {
        "id": "tr_rDVJvLYcl",
        "colab_type": "text"
      },
      "source": [
        "## Bangkit Final Project: Aksara Jawa Classification with Machine Learning"
      ]
    },
    {
      "cell_type": "markdown",
      "metadata": {
        "id": "1B8_rvywLPMy",
        "colab_type": "text"
      },
      "source": [
        "## Dependencies\n"
      ]
    },
    {
      "cell_type": "code",
      "metadata": {
        "id": "YEMQiRFrEm4D",
        "colab_type": "code",
        "outputId": "d667a4df-c490-46a4-91ef-b96249c31590",
        "colab": {
          "base_uri": "https://localhost:8080/",
          "height": 436
        }
      },
      "source": [
        "# Install dependencies\n",
        "\n",
        "!pip install -q kaggle\n",
        "!pip install keras==2.3.0"
      ],
      "execution_count": 0,
      "outputs": [
        {
          "output_type": "stream",
          "text": [
            "Collecting keras==2.3.0\n",
            "\u001b[?25l  Downloading https://files.pythonhosted.org/packages/1b/18/2e1ef121e5560ac24c7ac9e363aa5fa7006c40563c989e7211aba95b793a/Keras-2.3.0-py2.py3-none-any.whl (377kB)\n",
            "\r\u001b[K     |▉                               | 10kB 24.9MB/s eta 0:00:01\r\u001b[K     |█▊                              | 20kB 6.0MB/s eta 0:00:01\r\u001b[K     |██▋                             | 30kB 7.4MB/s eta 0:00:01\r\u001b[K     |███▌                            | 40kB 8.2MB/s eta 0:00:01\r\u001b[K     |████▍                           | 51kB 7.0MB/s eta 0:00:01\r\u001b[K     |█████▏                          | 61kB 8.0MB/s eta 0:00:01\r\u001b[K     |██████                          | 71kB 8.2MB/s eta 0:00:01\r\u001b[K     |███████                         | 81kB 8.6MB/s eta 0:00:01\r\u001b[K     |███████▉                        | 92kB 8.0MB/s eta 0:00:01\r\u001b[K     |████████▊                       | 102kB 8.6MB/s eta 0:00:01\r\u001b[K     |█████████▌                      | 112kB 8.6MB/s eta 0:00:01\r\u001b[K     |██████████▍                     | 122kB 8.6MB/s eta 0:00:01\r\u001b[K     |███████████▎                    | 133kB 8.6MB/s eta 0:00:01\r\u001b[K     |████████████▏                   | 143kB 8.6MB/s eta 0:00:01\r\u001b[K     |█████████████                   | 153kB 8.6MB/s eta 0:00:01\r\u001b[K     |█████████████▉                  | 163kB 8.6MB/s eta 0:00:01\r\u001b[K     |██████████████▊                 | 174kB 8.6MB/s eta 0:00:01\r\u001b[K     |███████████████▋                | 184kB 8.6MB/s eta 0:00:01\r\u001b[K     |████████████████▌               | 194kB 8.6MB/s eta 0:00:01\r\u001b[K     |█████████████████▍              | 204kB 8.6MB/s eta 0:00:01\r\u001b[K     |██████████████████▎             | 215kB 8.6MB/s eta 0:00:01\r\u001b[K     |███████████████████             | 225kB 8.6MB/s eta 0:00:01\r\u001b[K     |████████████████████            | 235kB 8.6MB/s eta 0:00:01\r\u001b[K     |████████████████████▉           | 245kB 8.6MB/s eta 0:00:01\r\u001b[K     |█████████████████████▊          | 256kB 8.6MB/s eta 0:00:01\r\u001b[K     |██████████████████████▋         | 266kB 8.6MB/s eta 0:00:01\r\u001b[K     |███████████████████████▍        | 276kB 8.6MB/s eta 0:00:01\r\u001b[K     |████████████████████████▎       | 286kB 8.6MB/s eta 0:00:01\r\u001b[K     |█████████████████████████▏      | 296kB 8.6MB/s eta 0:00:01\r\u001b[K     |██████████████████████████      | 307kB 8.6MB/s eta 0:00:01\r\u001b[K     |███████████████████████████     | 317kB 8.6MB/s eta 0:00:01\r\u001b[K     |███████████████████████████▊    | 327kB 8.6MB/s eta 0:00:01\r\u001b[K     |████████████████████████████▋   | 337kB 8.6MB/s eta 0:00:01\r\u001b[K     |█████████████████████████████▌  | 348kB 8.6MB/s eta 0:00:01\r\u001b[K     |██████████████████████████████▍ | 358kB 8.6MB/s eta 0:00:01\r\u001b[K     |███████████████████████████████▎| 368kB 8.6MB/s eta 0:00:01\r\u001b[K     |████████████████████████████████| 378kB 8.6MB/s \n",
            "\u001b[?25hRequirement already satisfied: six>=1.9.0 in /usr/local/lib/python3.6/dist-packages (from keras==2.3.0) (1.12.0)\n",
            "Requirement already satisfied: h5py in /usr/local/lib/python3.6/dist-packages (from keras==2.3.0) (2.10.0)\n",
            "Requirement already satisfied: keras-applications>=1.0.6 in /usr/local/lib/python3.6/dist-packages (from keras==2.3.0) (1.0.8)\n",
            "Requirement already satisfied: numpy>=1.9.1 in /usr/local/lib/python3.6/dist-packages (from keras==2.3.0) (1.18.4)\n",
            "Requirement already satisfied: scipy>=0.14 in /usr/local/lib/python3.6/dist-packages (from keras==2.3.0) (1.4.1)\n",
            "Requirement already satisfied: keras-preprocessing>=1.0.5 in /usr/local/lib/python3.6/dist-packages (from keras==2.3.0) (1.1.2)\n",
            "Requirement already satisfied: pyyaml in /usr/local/lib/python3.6/dist-packages (from keras==2.3.0) (3.13)\n",
            "Installing collected packages: keras\n",
            "  Found existing installation: Keras 2.3.1\n",
            "    Uninstalling Keras-2.3.1:\n",
            "      Successfully uninstalled Keras-2.3.1\n",
            "Successfully installed keras-2.3.0\n"
          ],
          "name": "stdout"
        },
        {
          "output_type": "display_data",
          "data": {
            "application/vnd.colab-display-data+json": {
              "pip_warning": {
                "packages": [
                  "keras"
                ]
              }
            }
          },
          "metadata": {
            "tags": []
          }
        },
        {
          "output_type": "stream",
          "text": [
            "Requirement already satisfied: h5py in /usr/local/lib/python3.6/dist-packages (2.10.0)\n",
            "Requirement already satisfied: six in /usr/local/lib/python3.6/dist-packages (from h5py) (1.12.0)\n",
            "Requirement already satisfied: numpy>=1.7 in /usr/local/lib/python3.6/dist-packages (from h5py) (1.18.4)\n"
          ],
          "name": "stdout"
        }
      ]
    },
    {
      "cell_type": "code",
      "metadata": {
        "id": "gjdKqVMdEpmb",
        "colab_type": "code",
        "outputId": "36c33e5c-26b4-439f-835a-4d45b8caadcf",
        "colab": {
          "base_uri": "https://localhost:8080/",
          "height": 35
        }
      },
      "source": [
        "import keras,os\n",
        "from keras.preprocessing.image import ImageDataGenerator\n",
        "import numpy as np\n",
        "\n",
        "# Colab library to upload files to notebook\n",
        "from google.colab import files"
      ],
      "execution_count": 1,
      "outputs": [
        {
          "output_type": "stream",
          "text": [
            "Using TensorFlow backend.\n"
          ],
          "name": "stderr"
        }
      ]
    },
    {
      "cell_type": "code",
      "metadata": {
        "id": "IqjlrfMqE00y",
        "colab_type": "code",
        "outputId": "17c7a1bb-51df-482e-abbe-e348fabe3742",
        "colab": {
          "resources": {
            "http://localhost:8080/nbextensions/google.colab/files.js": {
              "data": "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",
              "ok": true,
              "headers": [
                [
                  "content-type",
                  "application/javascript"
                ]
              ],
              "status": 200,
              "status_text": ""
            }
          },
          "base_uri": "https://localhost:8080/",
          "height": 75
        }
      },
      "source": [
        "# Upload kaggle API key file\n",
        "uploaded = files.upload()"
      ],
      "execution_count": 2,
      "outputs": [
        {
          "output_type": "display_data",
          "data": {
            "text/html": [
              "\n",
              "     <input type=\"file\" id=\"files-7ee5360c-42ab-41a1-8abd-04c49898f978\" name=\"files[]\" multiple disabled />\n",
              "     <output id=\"result-7ee5360c-42ab-41a1-8abd-04c49898f978\">\n",
              "      Upload widget is only available when the cell has been executed in the\n",
              "      current browser session. Please rerun this cell to enable.\n",
              "      </output>\n",
              "      <script src=\"/nbextensions/google.colab/files.js\"></script> "
            ],
            "text/plain": [
              "<IPython.core.display.HTML object>"
            ]
          },
          "metadata": {
            "tags": []
          }
        },
        {
          "output_type": "stream",
          "text": [
            "Saving kaggle.json to kaggle.json\n"
          ],
          "name": "stdout"
        }
      ]
    },
    {
      "cell_type": "code",
      "metadata": {
        "id": "sTwyLWClE6gO",
        "colab_type": "code",
        "colab": {}
      },
      "source": [
        "!mkdir -p ~/.kaggle\n",
        "!cp kaggle.json ~/.kaggle/\n",
        "\n",
        "# This permissions change avoids a warning on Kaggle tool startup.\n",
        "!chmod 600 ~/.kaggle/kaggle.json"
      ],
      "execution_count": 0,
      "outputs": []
    },
    {
      "cell_type": "markdown",
      "metadata": {
        "id": "AWlUb1amTgLh",
        "colab_type": "text"
      },
      "source": [
        "## Data Preparation\n"
      ]
    },
    {
      "cell_type": "code",
      "metadata": {
        "id": "RIK8FaA1FDXb",
        "colab_type": "code",
        "colab": {}
      },
      "source": [
        "%%time\n",
        "# Download dataset from upstream\n",
        "!kaggle datasets download -d phiard/aksara-jawa"
      ],
      "execution_count": 0,
      "outputs": []
    },
    {
      "cell_type": "code",
      "metadata": {
        "id": "oL6ZdRNYFFAd",
        "colab_type": "code",
        "colab": {}
      },
      "source": [
        "%%time\n",
        "# Unzip dataset into a folder\n",
        "!unzip aksara-jawa.zip -d dataset"
      ],
      "execution_count": 0,
      "outputs": []
    },
    {
      "cell_type": "code",
      "metadata": {
        "_uuid": "8f2839f25d086af736a60e9eeb907d3b93b6e0e5",
        "_cell_guid": "b1076dfc-b9ad-4769-8c92-a6c4dae69d19",
        "trusted": true,
        "id": "8kuLCQ2RLvov",
        "colab_type": "code",
        "outputId": "48eda5c9-26cb-4474-ea57-c48b5826390e",
        "colab": {
          "base_uri": "https://localhost:8080/",
          "height": 52
        }
      },
      "source": [
        "# Do the image augmentation and rescale image\n",
        "train_datagen = ImageDataGenerator(\n",
        "      rescale=1./255,\n",
        "      width_shift_range=0.2,\n",
        "      height_shift_range=0.2,\n",
        "      shear_range=0.2,\n",
        "      zoom_range=0.2,\n",
        "      fill_mode='nearest')\n",
        "\n",
        "validation_datagen = ImageDataGenerator(rescale=1./255)\n",
        "\n",
        "train_data = train_datagen.flow_from_directory(\n",
        "    directory=\"/content/dataset/newdatasetaug/newtraining\",\n",
        "    target_size=(224,224),\n",
        "    batch_size=20)\n",
        "\n",
        "validation_data = validation_datagen.flow_from_directory(\n",
        "    directory=\"/content/dataset/newdatasetaug/newtesting\",\n",
        "    target_size=(224,224),\n",
        "    batch_size=20)"
      ],
      "execution_count": 6,
      "outputs": [
        {
          "output_type": "stream",
          "text": [
            "Found 1441 images belonging to 20 classes.\n",
            "Found 839 images belonging to 20 classes.\n"
          ],
          "name": "stdout"
        }
      ]
    },
    {
      "cell_type": "markdown",
      "metadata": {
        "id": "8M9ncqABBfnl",
        "colab_type": "text"
      },
      "source": [
        "## Build the Model\n",
        "\n"
      ]
    },
    {
      "cell_type": "code",
      "metadata": {
        "id": "-Y_iaPmwGkhp",
        "colab_type": "code",
        "colab": {}
      },
      "source": [
        "from keras.models import Sequential\n",
        "from keras.layers import Dense, Conv2D, MaxPool2D , Flatten, Dropout\n",
        "from keras.callbacks import ModelCheckpoint, EarlyStopping\n",
        "from keras.optimizers import Adam\n"
      ],
      "execution_count": 0,
      "outputs": []
    },
    {
      "cell_type": "code",
      "metadata": {
        "id": "lgOn6QCJ2zLW",
        "colab_type": "code",
        "outputId": "abc43c78-e44f-4534-db68-8838a6b9f2f2",
        "colab": {
          "base_uri": "https://localhost:8080/",
          "height": 1000
        }
      },
      "source": [
        "model = Sequential()\n",
        "\n",
        "model.add(Conv2D(input_shape=(224,224,3),filters=64,kernel_size=(3,3),padding=\"same\", activation=\"relu\"))\n",
        "model.add(Conv2D(filters=64,kernel_size=(3,3),padding=\"same\", activation=\"relu\"))\n",
        "model.add(MaxPool2D(pool_size=(2,2),strides=(2,2)))\n",
        "\n",
        "model.add(Conv2D(filters=128, kernel_size=(3,3), padding=\"same\", activation=\"relu\"))\n",
        "model.add(Conv2D(filters=128, kernel_size=(3,3), padding=\"same\", activation=\"relu\"))\n",
        "model.add(MaxPool2D(pool_size=(2,2),strides=(2,2)))\n",
        "\n",
        "model.add(Conv2D(filters=256, kernel_size=(3,3), padding=\"same\", activation=\"relu\"))\n",
        "model.add(Conv2D(filters=256, kernel_size=(3,3), padding=\"same\", activation=\"relu\"))\n",
        "model.add(Conv2D(filters=256, kernel_size=(3,3), padding=\"same\", activation=\"relu\"))\n",
        "model.add(MaxPool2D(pool_size=(2,2),strides=(2,2)))\n",
        "\n",
        "model.add(Conv2D(filters=512, kernel_size=(3,3), padding=\"same\", activation=\"relu\"))\n",
        "model.add(Conv2D(filters=512, kernel_size=(3,3), padding=\"same\", activation=\"relu\"))\n",
        "model.add(Conv2D(filters=512, kernel_size=(3,3), padding=\"same\", activation=\"relu\"))\n",
        "model.add(MaxPool2D(pool_size=(2,2),strides=(2,2)))\n",
        "\n",
        "model.add(Conv2D(filters=512, kernel_size=(3,3), padding=\"same\", activation=\"relu\"))\n",
        "model.add(Conv2D(filters=512, kernel_size=(3,3), padding=\"same\", activation=\"relu\"))\n",
        "model.add(Conv2D(filters=512, kernel_size=(3,3), padding=\"same\", activation=\"relu\"))\n",
        "model.add(MaxPool2D(pool_size=(2,2),strides=(2,2)))\n",
        "\n",
        "model.add(Flatten())\n",
        "model.add(Dense(units=4096,activation=\"relu\"))\n",
        "model.add(Dense(units=4096,activation=\"relu\"))\n",
        "model.add(Dense(units=20, activation=\"softmax\"))\n",
        "\n",
        "opt = Adam(lr=0.000001)\n",
        "model.compile(optimizer=opt, loss=keras.losses.categorical_crossentropy, metrics=['accuracy'])\n",
        "\n",
        "model.summary()\n",
        "\n",
        "checkpoint = ModelCheckpoint(\"dummy_model.h5\", monitor='val_accuracy', verbose=1, save_best_only=True, save_weights_only=False, mode='auto', period=1)\n",
        "early = EarlyStopping(monitor='val_accuracy', min_delta=0, patience=20, verbose=1, mode='auto')\n",
        "hist = model.fit_generator(steps_per_epoch=50,generator=train_data, validation_data= validation_data, validation_steps=5,epochs=50,callbacks=[checkpoint,early])"
      ],
      "execution_count": 13,
      "outputs": [
        {
          "output_type": "stream",
          "text": [
            "Model: \"sequential_4\"\n",
            "_________________________________________________________________\n",
            "Layer (type)                 Output Shape              Param #   \n",
            "=================================================================\n",
            "conv2d_29 (Conv2D)           (None, 224, 224, 64)      1792      \n",
            "_________________________________________________________________\n",
            "conv2d_30 (Conv2D)           (None, 224, 224, 64)      36928     \n",
            "_________________________________________________________________\n",
            "max_pooling2d_12 (MaxPooling (None, 112, 112, 64)      0         \n",
            "_________________________________________________________________\n",
            "conv2d_31 (Conv2D)           (None, 112, 112, 128)     73856     \n",
            "_________________________________________________________________\n",
            "conv2d_32 (Conv2D)           (None, 112, 112, 128)     147584    \n",
            "_________________________________________________________________\n",
            "max_pooling2d_13 (MaxPooling (None, 56, 56, 128)       0         \n",
            "_________________________________________________________________\n",
            "conv2d_33 (Conv2D)           (None, 56, 56, 256)       295168    \n",
            "_________________________________________________________________\n",
            "conv2d_34 (Conv2D)           (None, 56, 56, 256)       590080    \n",
            "_________________________________________________________________\n",
            "conv2d_35 (Conv2D)           (None, 56, 56, 256)       590080    \n",
            "_________________________________________________________________\n",
            "max_pooling2d_14 (MaxPooling (None, 28, 28, 256)       0         \n",
            "_________________________________________________________________\n",
            "conv2d_36 (Conv2D)           (None, 28, 28, 512)       1180160   \n",
            "_________________________________________________________________\n",
            "conv2d_37 (Conv2D)           (None, 28, 28, 512)       2359808   \n",
            "_________________________________________________________________\n",
            "conv2d_38 (Conv2D)           (None, 28, 28, 512)       2359808   \n",
            "_________________________________________________________________\n",
            "max_pooling2d_15 (MaxPooling (None, 14, 14, 512)       0         \n",
            "_________________________________________________________________\n",
            "conv2d_39 (Conv2D)           (None, 14, 14, 512)       2359808   \n",
            "_________________________________________________________________\n",
            "conv2d_40 (Conv2D)           (None, 14, 14, 512)       2359808   \n",
            "_________________________________________________________________\n",
            "conv2d_41 (Conv2D)           (None, 14, 14, 512)       2359808   \n",
            "_________________________________________________________________\n",
            "max_pooling2d_16 (MaxPooling (None, 7, 7, 512)         0         \n",
            "_________________________________________________________________\n",
            "flatten_3 (Flatten)          (None, 25088)             0         \n",
            "_________________________________________________________________\n",
            "dense_7 (Dense)              (None, 4096)              102764544 \n",
            "_________________________________________________________________\n",
            "dense_8 (Dense)              (None, 4096)              16781312  \n",
            "_________________________________________________________________\n",
            "dense_9 (Dense)              (None, 20)                81940     \n",
            "=================================================================\n",
            "Total params: 134,342,484\n",
            "Trainable params: 134,342,484\n",
            "Non-trainable params: 0\n",
            "_________________________________________________________________\n",
            "Epoch 1/50\n",
            "50/50 [==============================] - 31s 625ms/step - loss: 2.9959 - accuracy: 0.0499 - val_loss: 2.9951 - val_accuracy: 0.0500\n",
            "\n",
            "Epoch 00001: val_accuracy improved from -inf to 0.05000, saving model to dummy_model.h5\n",
            "Epoch 2/50\n",
            "50/50 [==============================] - 28s 562ms/step - loss: 2.9958 - accuracy: 0.0520 - val_loss: 2.9961 - val_accuracy: 0.0800\n",
            "\n",
            "Epoch 00002: val_accuracy improved from 0.05000 to 0.08000, saving model to dummy_model.h5\n",
            "Epoch 3/50\n",
            "50/50 [==============================] - 29s 578ms/step - loss: 2.9958 - accuracy: 0.0450 - val_loss: 2.9953 - val_accuracy: 0.0500\n",
            "\n",
            "Epoch 00003: val_accuracy did not improve from 0.08000\n",
            "Epoch 4/50\n",
            "50/50 [==============================] - 29s 590ms/step - loss: 2.9956 - accuracy: 0.0571 - val_loss: 2.9963 - val_accuracy: 0.0700\n",
            "\n",
            "Epoch 00004: val_accuracy did not improve from 0.08000\n",
            "Epoch 5/50\n",
            "50/50 [==============================] - 29s 590ms/step - loss: 2.9958 - accuracy: 0.0469 - val_loss: 2.9942 - val_accuracy: 0.0600\n",
            "\n",
            "Epoch 00005: val_accuracy did not improve from 0.08000\n",
            "Epoch 6/50\n",
            "50/50 [==============================] - 30s 603ms/step - loss: 2.9956 - accuracy: 0.0450 - val_loss: 2.9962 - val_accuracy: 0.0400\n",
            "\n",
            "Epoch 00006: val_accuracy did not improve from 0.08000\n",
            "Epoch 7/50\n",
            "50/50 [==============================] - 30s 590ms/step - loss: 2.9954 - accuracy: 0.0601 - val_loss: 2.9955 - val_accuracy: 0.0900\n",
            "\n",
            "Epoch 00007: val_accuracy improved from 0.08000 to 0.09000, saving model to dummy_model.h5\n",
            "Epoch 8/50\n",
            "50/50 [==============================] - 28s 560ms/step - loss: 2.9957 - accuracy: 0.0489 - val_loss: 2.9954 - val_accuracy: 0.0600\n",
            "\n",
            "Epoch 00008: val_accuracy did not improve from 0.09000\n",
            "Epoch 9/50\n",
            "50/50 [==============================] - 30s 604ms/step - loss: 2.9954 - accuracy: 0.0530 - val_loss: 2.9935 - val_accuracy: 0.0808\n",
            "\n",
            "Epoch 00009: val_accuracy did not improve from 0.09000\n",
            "Epoch 10/50\n",
            "50/50 [==============================] - 29s 588ms/step - loss: 2.9954 - accuracy: 0.0571 - val_loss: 2.9953 - val_accuracy: 0.0100\n",
            "\n",
            "Epoch 00010: val_accuracy did not improve from 0.09000\n",
            "Epoch 11/50\n",
            "50/50 [==============================] - 29s 586ms/step - loss: 2.9950 - accuracy: 0.0642 - val_loss: 2.9956 - val_accuracy: 0.0700\n",
            "\n",
            "Epoch 00011: val_accuracy did not improve from 0.09000\n",
            "Epoch 12/50\n",
            "50/50 [==============================] - 30s 593ms/step - loss: 2.9954 - accuracy: 0.0420 - val_loss: 2.9955 - val_accuracy: 0.0200\n",
            "\n",
            "Epoch 00012: val_accuracy did not improve from 0.09000\n",
            "Epoch 13/50\n",
            "50/50 [==============================] - 29s 583ms/step - loss: 2.9949 - accuracy: 0.0581 - val_loss: 2.9949 - val_accuracy: 0.0800\n",
            "\n",
            "Epoch 00013: val_accuracy did not improve from 0.09000\n",
            "Epoch 14/50\n",
            "50/50 [==============================] - 30s 594ms/step - loss: 2.9948 - accuracy: 0.0520 - val_loss: 2.9950 - val_accuracy: 0.0600\n",
            "\n",
            "Epoch 00014: val_accuracy did not improve from 0.09000\n",
            "Epoch 15/50\n",
            "50/50 [==============================] - 30s 592ms/step - loss: 2.9937 - accuracy: 0.0642 - val_loss: 2.9904 - val_accuracy: 0.0600\n",
            "\n",
            "Epoch 00015: val_accuracy did not improve from 0.09000\n",
            "Epoch 16/50\n",
            "50/50 [==============================] - 29s 584ms/step - loss: 2.9934 - accuracy: 0.0479 - val_loss: 2.9937 - val_accuracy: 0.0300\n",
            "\n",
            "Epoch 00016: val_accuracy did not improve from 0.09000\n",
            "Epoch 17/50\n",
            "50/50 [==============================] - 29s 585ms/step - loss: 2.9911 - accuracy: 0.0591 - val_loss: 2.9908 - val_accuracy: 0.0505\n",
            "\n",
            "Epoch 00017: val_accuracy did not improve from 0.09000\n",
            "Epoch 18/50\n",
            "50/50 [==============================] - 31s 611ms/step - loss: 2.9908 - accuracy: 0.0470 - val_loss: 2.9804 - val_accuracy: 0.0500\n",
            "\n",
            "Epoch 00018: val_accuracy did not improve from 0.09000\n",
            "Epoch 19/50\n",
            "50/50 [==============================] - 29s 589ms/step - loss: 2.9850 - accuracy: 0.0673 - val_loss: 2.9749 - val_accuracy: 0.0800\n",
            "\n",
            "Epoch 00019: val_accuracy did not improve from 0.09000\n",
            "Epoch 20/50\n",
            "50/50 [==============================] - 29s 589ms/step - loss: 2.9779 - accuracy: 0.0673 - val_loss: 2.9657 - val_accuracy: 0.0900\n",
            "\n",
            "Epoch 00020: val_accuracy did not improve from 0.09000\n",
            "Epoch 21/50\n",
            "50/50 [==============================] - 30s 602ms/step - loss: 2.9575 - accuracy: 0.1150 - val_loss: 2.9551 - val_accuracy: 0.1100\n",
            "\n",
            "Epoch 00021: val_accuracy improved from 0.09000 to 0.11000, saving model to dummy_model.h5\n",
            "Epoch 22/50\n",
            "50/50 [==============================] - 28s 555ms/step - loss: 2.9139 - accuracy: 0.1164 - val_loss: 2.8057 - val_accuracy: 0.0900\n",
            "\n",
            "Epoch 00022: val_accuracy did not improve from 0.11000\n",
            "Epoch 23/50\n",
            "50/50 [==============================] - 30s 598ms/step - loss: 2.8707 - accuracy: 0.1230 - val_loss: 2.7373 - val_accuracy: 0.3400\n",
            "\n",
            "Epoch 00023: val_accuracy improved from 0.11000 to 0.34000, saving model to dummy_model.h5\n",
            "Epoch 24/50\n",
            "50/50 [==============================] - 29s 574ms/step - loss: 2.8054 - accuracy: 0.1580 - val_loss: 2.6833 - val_accuracy: 0.1700\n",
            "\n",
            "Epoch 00024: val_accuracy did not improve from 0.34000\n",
            "Epoch 25/50\n",
            "50/50 [==============================] - 29s 571ms/step - loss: 2.7388 - accuracy: 0.1529 - val_loss: 2.5096 - val_accuracy: 0.1600\n",
            "\n",
            "Epoch 00025: val_accuracy did not improve from 0.34000\n",
            "Epoch 26/50\n",
            "50/50 [==============================] - 30s 601ms/step - loss: 2.7180 - accuracy: 0.1529 - val_loss: 2.3523 - val_accuracy: 0.2626\n",
            "\n",
            "Epoch 00026: val_accuracy did not improve from 0.34000\n",
            "Epoch 27/50\n",
            "50/50 [==============================] - 29s 584ms/step - loss: 2.6264 - accuracy: 0.1794 - val_loss: 2.4143 - val_accuracy: 0.3800\n",
            "\n",
            "Epoch 00027: val_accuracy improved from 0.34000 to 0.38000, saving model to dummy_model.h5\n",
            "Epoch 28/50\n",
            "50/50 [==============================] - 29s 578ms/step - loss: 2.6101 - accuracy: 0.1830 - val_loss: 2.3559 - val_accuracy: 0.2100\n",
            "\n",
            "Epoch 00028: val_accuracy did not improve from 0.38000\n",
            "Epoch 29/50\n",
            "50/50 [==============================] - 29s 586ms/step - loss: 2.6006 - accuracy: 0.2018 - val_loss: 2.1130 - val_accuracy: 0.2400\n",
            "\n",
            "Epoch 00029: val_accuracy did not improve from 0.38000\n",
            "Epoch 30/50\n",
            "50/50 [==============================] - 29s 588ms/step - loss: 2.5146 - accuracy: 0.2253 - val_loss: 2.0004 - val_accuracy: 0.3300\n",
            "\n",
            "Epoch 00030: val_accuracy did not improve from 0.38000\n",
            "Epoch 31/50\n",
            "50/50 [==============================] - 30s 598ms/step - loss: 2.4573 - accuracy: 0.2310 - val_loss: 1.9031 - val_accuracy: 0.4500\n",
            "\n",
            "Epoch 00031: val_accuracy improved from 0.38000 to 0.45000, saving model to dummy_model.h5\n",
            "Epoch 32/50\n",
            "50/50 [==============================] - 28s 566ms/step - loss: 2.4810 - accuracy: 0.2110 - val_loss: 2.1098 - val_accuracy: 0.3500\n",
            "\n",
            "Epoch 00032: val_accuracy did not improve from 0.45000\n",
            "Epoch 33/50\n",
            "50/50 [==============================] - 29s 583ms/step - loss: 2.3468 - accuracy: 0.2870 - val_loss: 2.2279 - val_accuracy: 0.4100\n",
            "\n",
            "Epoch 00033: val_accuracy did not improve from 0.45000\n",
            "Epoch 34/50\n",
            "50/50 [==============================] - 29s 587ms/step - loss: 2.3884 - accuracy: 0.2304 - val_loss: 2.0016 - val_accuracy: 0.3232\n",
            "\n",
            "Epoch 00034: val_accuracy did not improve from 0.45000\n",
            "Epoch 35/50\n",
            "50/50 [==============================] - 30s 594ms/step - loss: 2.3872 - accuracy: 0.2569 - val_loss: 2.1009 - val_accuracy: 0.3900\n",
            "\n",
            "Epoch 00035: val_accuracy did not improve from 0.45000\n",
            "Epoch 36/50\n",
            "50/50 [==============================] - 29s 582ms/step - loss: 2.3499 - accuracy: 0.2722 - val_loss: 2.4046 - val_accuracy: 0.2800\n",
            "\n",
            "Epoch 00036: val_accuracy did not improve from 0.45000\n",
            "Epoch 37/50\n",
            "50/50 [==============================] - 30s 596ms/step - loss: 2.3369 - accuracy: 0.2730 - val_loss: 2.2418 - val_accuracy: 0.3200\n",
            "\n",
            "Epoch 00037: val_accuracy did not improve from 0.45000\n",
            "Epoch 38/50\n",
            "50/50 [==============================] - 29s 585ms/step - loss: 2.2189 - accuracy: 0.3109 - val_loss: 1.9959 - val_accuracy: 0.2800\n",
            "\n",
            "Epoch 00038: val_accuracy did not improve from 0.45000\n",
            "Epoch 39/50\n",
            "50/50 [==============================] - 29s 584ms/step - loss: 2.2247 - accuracy: 0.3191 - val_loss: 1.7813 - val_accuracy: 0.4700\n",
            "\n",
            "Epoch 00039: val_accuracy improved from 0.45000 to 0.47000, saving model to dummy_model.h5\n",
            "Epoch 40/50\n",
            "50/50 [==============================] - 29s 571ms/step - loss: 2.2048 - accuracy: 0.3130 - val_loss: 1.9935 - val_accuracy: 0.4400\n",
            "\n",
            "Epoch 00040: val_accuracy did not improve from 0.47000\n",
            "Epoch 41/50\n",
            "50/50 [==============================] - 29s 578ms/step - loss: 2.1367 - accuracy: 0.3405 - val_loss: 1.9457 - val_accuracy: 0.3800\n",
            "\n",
            "Epoch 00041: val_accuracy did not improve from 0.47000\n",
            "Epoch 42/50\n",
            "50/50 [==============================] - 29s 572ms/step - loss: 2.1533 - accuracy: 0.3200 - val_loss: 2.0475 - val_accuracy: 0.3131\n",
            "\n",
            "Epoch 00042: val_accuracy did not improve from 0.47000\n",
            "Epoch 43/50\n",
            "50/50 [==============================] - 30s 593ms/step - loss: 2.1348 - accuracy: 0.3181 - val_loss: 1.5754 - val_accuracy: 0.5100\n",
            "\n",
            "Epoch 00043: val_accuracy improved from 0.47000 to 0.51000, saving model to dummy_model.h5\n",
            "Epoch 44/50\n",
            "50/50 [==============================] - 28s 556ms/step - loss: 2.1230 - accuracy: 0.3476 - val_loss: 1.7356 - val_accuracy: 0.3500\n",
            "\n",
            "Epoch 00044: val_accuracy did not improve from 0.51000\n",
            "Epoch 45/50\n",
            "50/50 [==============================] - 29s 588ms/step - loss: 2.0758 - accuracy: 0.3630 - val_loss: 2.0936 - val_accuracy: 0.4000\n",
            "\n",
            "Epoch 00045: val_accuracy did not improve from 0.51000\n",
            "Epoch 46/50\n",
            "50/50 [==============================] - 29s 578ms/step - loss: 1.9811 - accuracy: 0.3558 - val_loss: 2.0598 - val_accuracy: 0.3500\n",
            "\n",
            "Epoch 00046: val_accuracy did not improve from 0.51000\n",
            "Epoch 47/50\n",
            "50/50 [==============================] - 30s 590ms/step - loss: 2.0306 - accuracy: 0.3780 - val_loss: 2.1985 - val_accuracy: 0.3900\n",
            "\n",
            "Epoch 00047: val_accuracy did not improve from 0.51000\n",
            "Epoch 48/50\n",
            "50/50 [==============================] - 29s 578ms/step - loss: 1.9799 - accuracy: 0.3976 - val_loss: 1.3616 - val_accuracy: 0.6100\n",
            "\n",
            "Epoch 00048: val_accuracy improved from 0.51000 to 0.61000, saving model to dummy_model.h5\n",
            "Epoch 49/50\n",
            "50/50 [==============================] - 29s 571ms/step - loss: 1.9851 - accuracy: 0.3880 - val_loss: 1.5547 - val_accuracy: 0.4100\n",
            "\n",
            "Epoch 00049: val_accuracy did not improve from 0.61000\n",
            "Epoch 50/50\n",
            "50/50 [==============================] - 28s 557ms/step - loss: 1.9876 - accuracy: 0.3690 - val_loss: 2.0609 - val_accuracy: 0.4100\n",
            "\n",
            "Epoch 00050: val_accuracy did not improve from 0.61000\n"
          ],
          "name": "stdout"
        }
      ]
    },
    {
      "cell_type": "markdown",
      "metadata": {
        "id": "O-YiFTNA3GKN",
        "colab_type": "text"
      },
      "source": [
        ""
      ]
    },
    {
      "cell_type": "code",
      "metadata": {
        "id": "vsfx_WIY0AU9",
        "colab_type": "code",
        "outputId": "33e18e09-f5e1-4829-c8d7-353765ad3231",
        "colab": {
          "base_uri": "https://localhost:8080/",
          "height": 295
        }
      },
      "source": [
        "import matplotlib.pyplot as plt\n",
        "\n",
        "plt.plot(hist.history[\"accuracy\"])\n",
        "plt.plot(hist.history['val_accuracy'])\n",
        "plt.plot(hist.history['loss'])\n",
        "plt.plot(hist.history['val_loss'])\n",
        "plt.title(\"model accuracy\")\n",
        "plt.ylabel(\"Accuracy\")\n",
        "plt.xlabel(\"Epoch\")\n",
        "plt.legend([\"Accuracy\",\"Validation Accuracy\",\"loss\",\"Validation Loss\"])\n",
        "plt.show()"
      ],
      "execution_count": 12,
      "outputs": [
        {
          "output_type": "display_data",
          "data": {
            "image/png": "[encoded data removed]",
            "text/plain": [
              "<Figure size 432x288 with 1 Axes>"
            ]
          },
          "metadata": {
            "tags": [],
            "needs_background": "light"
          }
        }
      ]
    },
    {
      "cell_type": "markdown",
      "metadata": {
        "id": "zJ13HwYbDpGv",
        "colab_type": "text"
      },
      "source": [
        "## Save model to json"
      ]
    },
    {
      "cell_type": "code",
      "metadata": {
        "id": "gbcakyzxE9KJ",
        "colab_type": "code",
        "colab": {}
      },
      "source": [
        "!pip install h5py"
      ],
      "execution_count": 0,
      "outputs": []
    },
    {
      "cell_type": "code",
      "metadata": {
        "id": "n-yhByUkDq9m",
        "colab_type": "code",
        "colab": {}
      },
      "source": [
        "# serialize model to JSON\n",
        "model_json = model.to_json()\n",
        "with open(\"model_dummy.json\", \"w\") as json_file:\n",
        "    json_file.write(model_json)"
      ],
      "execution_count": 0,
      "outputs": []
    }
  ]
}